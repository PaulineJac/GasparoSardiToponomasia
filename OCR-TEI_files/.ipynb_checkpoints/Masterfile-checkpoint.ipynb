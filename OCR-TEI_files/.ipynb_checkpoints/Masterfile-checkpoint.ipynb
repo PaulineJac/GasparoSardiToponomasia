{
 "cells": [
  {
   "cell_type": "code",
   "execution_count": 2,
   "id": "edb79178",
   "metadata": {},
   "outputs": [],
   "source": [
    "import os, shutil\n",
    "import xml.etree.ElementTree as ET"
   ]
  },
  {
   "cell_type": "code",
   "execution_count": 5,
   "id": "adb3d948",
   "metadata": {},
   "outputs": [
    {
     "ename": "FileNotFoundError",
     "evalue": "[Errno 2] No such file or directory: '../OCR-TEI_files'",
     "output_type": "error",
     "traceback": [
      "\u001b[0;31m---------------------------------------------------------------------------\u001b[0m",
      "\u001b[0;31mFileNotFoundError\u001b[0m                         Traceback (most recent call last)",
      "Input \u001b[0;32mIn [5]\u001b[0m, in \u001b[0;36m<cell line: 1>\u001b[0;34m()\u001b[0m\n\u001b[0;32m----> 1\u001b[0m \u001b[43mos\u001b[49m\u001b[38;5;241;43m.\u001b[39;49m\u001b[43mchdir\u001b[49m\u001b[43m(\u001b[49m\u001b[38;5;124;43m\"\u001b[39;49m\u001b[38;5;124;43m../OCR-TEI_files\u001b[39;49m\u001b[38;5;124;43m\"\u001b[39;49m\u001b[43m)\u001b[49m\n\u001b[1;32m      2\u001b[0m folder \u001b[38;5;241m=\u001b[39m \u001b[38;5;124m\"\u001b[39m\u001b[38;5;124m../OCR-TEI_files\u001b[39m\u001b[38;5;124m\"\u001b[39m\n",
      "\u001b[0;31mFileNotFoundError\u001b[0m: [Errno 2] No such file or directory: '../OCR-TEI_files'"
     ]
    }
   ],
   "source": [
    "os.chdir(\"./OCR-TEI_files\")\n",
    "folder = \"../OCR-TEI_files\""
   ]
  },
  {
   "cell_type": "code",
   "execution_count": 4,
   "id": "08dce75f",
   "metadata": {},
   "outputs": [],
   "source": [
    "for file in os.listdir(folder):\n",
    "    if file.endswith(\".xml\"):\n",
    "        folder_name = file[:7]\n",
    "        if not os.path.exists(folder_name):\n",
    "            os.mkdir(folder_name)\n",
    "            shutil.move(os.path.join(folder, file), folder_name)\n",
    "        else:\n",
    "            shutil.move(os.path.join(folder, file), folder_name)"
   ]
  },
  {
   "cell_type": "code",
   "execution_count": 5,
   "id": "b493af99",
   "metadata": {},
   "outputs": [],
   "source": [
    "for subdir, dirs, files in os.walk(folder):\n",
    "    list_file = []  \n",
    "    for file in files:\n",
    "        if not file.endswith('.DS_Store') | file.endswith('mets.xml') | file.startswith('Masterfile'):\n",
    "            '''print(os.path.join(subdir, file))'''\n",
    "            label, ext = os.path.splitext(file) \n",
    "            list_file.append(file)  # On ajoute les fichiers .xml à la liste\n",
    "            list_file.sort()  # On les organise par ordre alphabétique\n",
    "            '''print(list_file)'''\n",
    "             # Création du fichier xml avec pour racine <master>\n",
    "            root = ET.Element(\"master\", attrib={\"xmlns:xi\": \"http://www.w3.org/2001/XInclude\"})\n",
    "            \n",
    "            for x in list_file:  # On itère dans la liste des fichiers .xml\n",
    "                ET.SubElement(root, \"xi:include\", {\"href\": x})  # Pour chaque fichier, on crée un élément <xi:include>, enfant de master\n",
    "\n",
    "            tree = ET.ElementTree(root)  # On organise les éléments en arbre XML\n",
    "            masterfile_name = 'Masterfile' + '.xml'  # On crée le nom du masterfile\n",
    "            masterfile_path = os.path.join(subdir, masterfile_name)  # On crée le chemin du masterfile\n",
    "            tree.write(masterfile_path, encoding=\"UTF-8\", xml_declaration=True, method=\"xml\")  # On crée le fichier .xml"
   ]
  },
  {
   "cell_type": "code",
   "execution_count": null,
   "id": "4b5dae7d",
   "metadata": {},
   "outputs": [],
   "source": []
  }
 ],
 "metadata": {
  "kernelspec": {
   "display_name": "Python 3 (ipykernel)",
   "language": "python",
   "name": "python3"
  },
  "language_info": {
   "codemirror_mode": {
    "name": "ipython",
    "version": 3
   },
   "file_extension": ".py",
   "mimetype": "text/x-python",
   "name": "python",
   "nbconvert_exporter": "python",
   "pygments_lexer": "ipython3",
   "version": "3.9.12"
  }
 },
 "nbformat": 4,
 "nbformat_minor": 5
}
